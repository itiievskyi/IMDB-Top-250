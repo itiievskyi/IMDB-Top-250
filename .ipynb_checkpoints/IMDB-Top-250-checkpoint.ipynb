{
 "cells": [
  {
   "cell_type": "code",
   "execution_count": 1,
   "metadata": {},
   "outputs": [],
   "source": [
    "import requests\n",
    "from bs4 import BeautifulSoup\n",
    "import re\n",
    "import os\n",
    "import pandas as pd\n",
    "import json\n",
    "import time"
   ]
  },
  {
   "cell_type": "code",
   "execution_count": 2,
   "metadata": {},
   "outputs": [],
   "source": [
    "# Initializing session\n",
    "s = requests.Session()\n",
    "s.headers.update({'User-Agent': 'Mozilla/5.0 (Macintosh; Intel Mac OS X 10_13_4) AppleWebKit/537.36 (KHTML, like Gecko) Chrome/69.0.3497.100 Safari/537.36'})"
   ]
  },
  {
   "cell_type": "code",
   "execution_count": 4,
   "metadata": {},
   "outputs": [],
   "source": [
    "# Getting text form the IMDB Top-250 page\n",
    "start_page = 'https://www.imdb.com/chart/top'\n",
    "start_page_text = s.get(start_page).text"
   ]
  },
  {
   "cell_type": "code",
   "execution_count": 5,
   "metadata": {},
   "outputs": [],
   "source": [
    "# Creating a top movies list and parsing the page\n",
    "link_list = []\n",
    "\n",
    "template = 'https://www.imdb.com%s'\n",
    "\n",
    "soup = BeautifulSoup(start_page_text)\n",
    "\n",
    "for col in soup.find_all('td', {'class':'titleColumn'}):\n",
    "    link_list.append(template % re.findall(\"/title/tt[0-9]+\", col.find('a').get('href'))[0])"
   ]
  },
  {
   "cell_type": "code",
   "execution_count": 6,
   "metadata": {},
   "outputs": [],
   "source": [
    "# Creating a dataframe for movie list\n",
    "movies = pd.DataFrame(link_list, index=range(1, 251), columns=['IMDB link'])"
   ]
  },
  {
   "cell_type": "code",
   "execution_count": 19,
   "metadata": {},
   "outputs": [],
   "source": [
    "# Parsing detailed data from movie pages\n",
    "\n",
    "for n in range(0, 5):\n",
    "    r = s.get(link_list[n])\n",
    "    with open('page_%d.html' % n, 'w') as output_file:\n",
    "        output_file.write(r.text)\n",
    "    #page_text = s.get(link_list[n]).text"
   ]
  },
  {
   "cell_type": "code",
   "execution_count": null,
   "metadata": {},
   "outputs": [],
   "source": []
  }
 ],
 "metadata": {
  "kernelspec": {
   "display_name": "Python 3",
   "language": "python",
   "name": "python3"
  },
  "language_info": {
   "codemirror_mode": {
    "name": "ipython",
    "version": 3
   },
   "file_extension": ".py",
   "mimetype": "text/x-python",
   "name": "python",
   "nbconvert_exporter": "python",
   "pygments_lexer": "ipython3",
   "version": "3.7.1"
  }
 },
 "nbformat": 4,
 "nbformat_minor": 2
}
